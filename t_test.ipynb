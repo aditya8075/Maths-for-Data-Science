{
  "nbformat": 4,
  "nbformat_minor": 0,
  "metadata": {
    "colab": {
      "name": "t-test.ipynb",
      "provenance": [],
      "authorship_tag": "ABX9TyM7ej/9OsrpbriHQsWQwmnW"
    },
    "kernelspec": {
      "name": "python3",
      "display_name": "Python 3"
    },
    "language_info": {
      "name": "python"
    }
  },
  "cells": [
    {
      "cell_type": "markdown",
      "source": [
        "# Chi-Square Test and t test\n",
        "The test is applied when you have two categorical variables from a single population. It is used to determine whether there is a significant association between the two variables"
      ],
      "metadata": {
        "id": "txV8VprsAIsy"
      }
    },
    {
      "cell_type": "code",
      "execution_count": null,
      "metadata": {
        "id": "zOGEtS1k_7z4"
      },
      "outputs": [],
      "source": [
        ""
      ]
    }
  ]
}