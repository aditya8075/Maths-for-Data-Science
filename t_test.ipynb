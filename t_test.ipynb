{
  "nbformat": 4,
  "nbformat_minor": 0,
  "metadata": {
    "colab": {
      "name": "t-test.ipynb",
      "provenance": [],
      "authorship_tag": "ABX9TyM3a7B/c7l9Yf/DJH3azv76",
      "include_colab_link": true
    },
    "kernelspec": {
      "name": "python3",
      "display_name": "Python 3"
    },
    "language_info": {
      "name": "python"
    }
  },
  "cells": [
    {
      "cell_type": "markdown",
      "metadata": {
        "id": "view-in-github",
        "colab_type": "text"
      },
      "source": [
        "<a href=\"https://colab.research.google.com/github/aditya8075/Maths-for-Data-Science/blob/main/t_test.ipynb\" target=\"_parent\"><img src=\"https://colab.research.google.com/assets/colab-badge.svg\" alt=\"Open In Colab\"/></a>"
      ]
    },
    {
      "cell_type": "markdown",
      "source": [
        "# T Test\n",
        "A t-test is a type of inferential statistic which is used to determine if there is a significant difference between the means of two groups which may be related in certain features\n",
        "\n",
        "T-test has 2 types : 1. one sampled t-test 2. two-sampled t-test."
      ],
      "metadata": {
        "id": "j72Ujdn4Iq-F"
      }
    },
    {
      "cell_type": "markdown",
      "source": [
        "# One-sample T-test with Python\n",
        "The test will tell us whether means of the sample and the population are different"
      ],
      "metadata": {
        "id": "pJBv-rNFIz6D"
      }
    },
    {
      "cell_type": "code",
      "execution_count": 1,
      "metadata": {
        "id": "zOGEtS1k_7z4"
      },
      "outputs": [],
      "source": [
        "ages=[10,20,35,50,28,40,55,18,16,55,30,25,43,18,30,28,14,24,16,17,32,35,26,27,65,18,43,23,21,20,19,70]"
      ]
    },
    {
      "cell_type": "code",
      "source": [
        "len(ages)"
      ],
      "metadata": {
        "colab": {
          "base_uri": "https://localhost:8080/"
        },
        "id": "TwFX6rVtJGIS",
        "outputId": "1ec6cd15-4bd5-477b-d422-0d714a234999"
      },
      "execution_count": 2,
      "outputs": [
        {
          "output_type": "execute_result",
          "data": {
            "text/plain": [
              "32"
            ]
          },
          "metadata": {},
          "execution_count": 2
        }
      ]
    },
    {
      "cell_type": "code",
      "source": [
        "import numpy as np\n",
        "ages_mean=np.mean(ages)\n",
        "print(ages_mean)"
      ],
      "metadata": {
        "colab": {
          "base_uri": "https://localhost:8080/"
        },
        "id": "CYw2q3YLJGE7",
        "outputId": "c8fcb78e-f1a1-46b3-b94f-278c2d014d34"
      },
      "execution_count": 3,
      "outputs": [
        {
          "output_type": "stream",
          "name": "stdout",
          "text": [
            "30.34375\n"
          ]
        }
      ]
    },
    {
      "cell_type": "code",
      "source": [
        "## Lets take sample\n",
        "\n",
        "sample_size=10\n",
        "age_sample=np.random.choice(ages,sample_size)"
      ],
      "metadata": {
        "id": "FyJlA83TJGCT"
      },
      "execution_count": 4,
      "outputs": []
    },
    {
      "cell_type": "code",
      "source": [
        "age_sample"
      ],
      "metadata": {
        "colab": {
          "base_uri": "https://localhost:8080/"
        },
        "id": "QrDgohLhJF_x",
        "outputId": "9aadea98-c1da-46d4-d9e1-7d79bb7b15fd"
      },
      "execution_count": 5,
      "outputs": [
        {
          "output_type": "execute_result",
          "data": {
            "text/plain": [
              "array([16, 32, 25, 24, 21, 25, 20, 35, 70, 43])"
            ]
          },
          "metadata": {},
          "execution_count": 5
        }
      ]
    },
    {
      "cell_type": "code",
      "source": [
        "from scipy.stats import ttest_1samp"
      ],
      "metadata": {
        "id": "gXfl18ldJF9e"
      },
      "execution_count": 6,
      "outputs": []
    },
    {
      "cell_type": "code",
      "source": [
        "ttest,p_value=ttest_1samp(age_sample,30.34375)"
      ],
      "metadata": {
        "id": "EShavfETJF6K"
      },
      "execution_count": 7,
      "outputs": []
    },
    {
      "cell_type": "code",
      "source": [
        "print(p_value)"
      ],
      "metadata": {
        "colab": {
          "base_uri": "https://localhost:8080/"
        },
        "id": "kqD2FWfQJX0_",
        "outputId": "4e435121-73c8-43f5-dbee-c80f0fcf8f6b"
      },
      "execution_count": 8,
      "outputs": [
        {
          "output_type": "stream",
          "name": "stdout",
          "text": [
            "0.8830861041257191\n"
          ]
        }
      ]
    },
    {
      "cell_type": "code",
      "source": [
        "if p_value < 0.05:    # alpha value is 0.05 or 5%\n",
        "    print(\" we are rejecting null hypothesis\")\n",
        "else:\n",
        "    print(\"we are accepting null hypothesis\")"
      ],
      "metadata": {
        "colab": {
          "base_uri": "https://localhost:8080/"
        },
        "id": "i_j7Xk6CJXxs",
        "outputId": "f13ccc62-ad36-4df7-87ab-50ecf502640b"
      },
      "execution_count": 9,
      "outputs": [
        {
          "output_type": "stream",
          "name": "stdout",
          "text": [
            "we are accepting null hypothesis\n"
          ]
        }
      ]
    },
    {
      "cell_type": "code",
      "source": [
        ""
      ],
      "metadata": {
        "id": "4H6qKVQvJXuo"
      },
      "execution_count": null,
      "outputs": []
    },
    {
      "cell_type": "code",
      "source": [
        ""
      ],
      "metadata": {
        "id": "JNofNXhwJXoW"
      },
      "execution_count": null,
      "outputs": []
    },
    {
      "cell_type": "code",
      "source": [
        ""
      ],
      "metadata": {
        "id": "B8u60oWVJXkm"
      },
      "execution_count": null,
      "outputs": []
    },
    {
      "cell_type": "code",
      "source": [
        ""
      ],
      "metadata": {
        "id": "sMZMmvziJXh_"
      },
      "execution_count": null,
      "outputs": []
    },
    {
      "cell_type": "code",
      "source": [
        ""
      ],
      "metadata": {
        "id": "ABvnA5i0JXfL"
      },
      "execution_count": null,
      "outputs": []
    }
  ]
}