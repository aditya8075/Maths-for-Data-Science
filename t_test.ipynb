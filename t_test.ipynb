{
  "nbformat": 4,
  "nbformat_minor": 0,
  "metadata": {
    "colab": {
      "name": "t-test.ipynb",
      "provenance": [],
      "authorship_tag": "ABX9TyOO8/IKro7gPXeyUdsAtlzc",
      "include_colab_link": true
    },
    "kernelspec": {
      "name": "python3",
      "display_name": "Python 3"
    },
    "language_info": {
      "name": "python"
    }
  },
  "cells": [
    {
      "cell_type": "markdown",
      "metadata": {
        "id": "view-in-github",
        "colab_type": "text"
      },
      "source": [
        "<a href=\"https://colab.research.google.com/github/aditya8075/Maths-for-Data-Science/blob/main/t_test.ipynb\" target=\"_parent\"><img src=\"https://colab.research.google.com/assets/colab-badge.svg\" alt=\"Open In Colab\"/></a>"
      ]
    },
    {
      "cell_type": "markdown",
      "source": [
        "# T Test\n",
        "A t-test is a type of inferential statistic which is used to determine if there is a significant difference between the means of two groups which may be related in certain features\n",
        "\n",
        "T-test has 2 types : 1. one sampled t-test 2. two-sampled t-test."
      ],
      "metadata": {
        "id": "j72Ujdn4Iq-F"
      }
    },
    {
      "cell_type": "markdown",
      "source": [
        "# One-sample T-test with Python\n",
        "The test will tell us whether means of the sample and the population are different"
      ],
      "metadata": {
        "id": "pJBv-rNFIz6D"
      }
    },
    {
      "cell_type": "code",
      "execution_count": 1,
      "metadata": {
        "id": "zOGEtS1k_7z4"
      },
      "outputs": [],
      "source": [
        "ages=[10,20,35,50,28,40,55,18,16,55,30,25,43,18,30,28,14,24,16,17,32,35,26,27,65,18,43,23,21,20,19,70]"
      ]
    },
    {
      "cell_type": "code",
      "source": [
        "len(ages)"
      ],
      "metadata": {
        "colab": {
          "base_uri": "https://localhost:8080/"
        },
        "id": "TwFX6rVtJGIS",
        "outputId": "1ec6cd15-4bd5-477b-d422-0d714a234999"
      },
      "execution_count": 2,
      "outputs": [
        {
          "output_type": "execute_result",
          "data": {
            "text/plain": [
              "32"
            ]
          },
          "metadata": {},
          "execution_count": 2
        }
      ]
    },
    {
      "cell_type": "code",
      "source": [
        "import numpy as np\n",
        "ages_mean=np.mean(ages)\n",
        "print(ages_mean)"
      ],
      "metadata": {
        "colab": {
          "base_uri": "https://localhost:8080/"
        },
        "id": "CYw2q3YLJGE7",
        "outputId": "c8fcb78e-f1a1-46b3-b94f-278c2d014d34"
      },
      "execution_count": 3,
      "outputs": [
        {
          "output_type": "stream",
          "name": "stdout",
          "text": [
            "30.34375\n"
          ]
        }
      ]
    },
    {
      "cell_type": "code",
      "source": [
        "## Lets take sample\n",
        "\n",
        "sample_size=10\n",
        "age_sample=np.random.choice(ages,sample_size)"
      ],
      "metadata": {
        "id": "FyJlA83TJGCT"
      },
      "execution_count": 4,
      "outputs": []
    },
    {
      "cell_type": "code",
      "source": [
        "age_sample"
      ],
      "metadata": {
        "colab": {
          "base_uri": "https://localhost:8080/"
        },
        "id": "QrDgohLhJF_x",
        "outputId": "9aadea98-c1da-46d4-d9e1-7d79bb7b15fd"
      },
      "execution_count": 5,
      "outputs": [
        {
          "output_type": "execute_result",
          "data": {
            "text/plain": [
              "array([16, 32, 25, 24, 21, 25, 20, 35, 70, 43])"
            ]
          },
          "metadata": {},
          "execution_count": 5
        }
      ]
    },
    {
      "cell_type": "code",
      "source": [
        "from scipy.stats import ttest_1samp"
      ],
      "metadata": {
        "id": "gXfl18ldJF9e"
      },
      "execution_count": 6,
      "outputs": []
    },
    {
      "cell_type": "code",
      "source": [
        "ttest,p_value=ttest_1samp(age_sample,30.34375)"
      ],
      "metadata": {
        "id": "EShavfETJF6K"
      },
      "execution_count": 7,
      "outputs": []
    },
    {
      "cell_type": "code",
      "source": [
        "print(p_value)"
      ],
      "metadata": {
        "colab": {
          "base_uri": "https://localhost:8080/"
        },
        "id": "kqD2FWfQJX0_",
        "outputId": "4e435121-73c8-43f5-dbee-c80f0fcf8f6b"
      },
      "execution_count": 8,
      "outputs": [
        {
          "output_type": "stream",
          "name": "stdout",
          "text": [
            "0.8830861041257191\n"
          ]
        }
      ]
    },
    {
      "cell_type": "code",
      "source": [
        "if p_value < 0.05:    # alpha value is 0.05 or 5%\n",
        "    print(\" we are rejecting null hypothesis\")\n",
        "else:\n",
        "    print(\"we are accepting null hypothesis\")"
      ],
      "metadata": {
        "colab": {
          "base_uri": "https://localhost:8080/"
        },
        "id": "i_j7Xk6CJXxs",
        "outputId": "f13ccc62-ad36-4df7-87ab-50ecf502640b"
      },
      "execution_count": 9,
      "outputs": [
        {
          "output_type": "stream",
          "name": "stdout",
          "text": [
            "we are accepting null hypothesis\n"
          ]
        }
      ]
    },
    {
      "cell_type": "markdown",
      "source": [
        "# Some More Examples\n",
        "Consider the age of students in a college and in Class A"
      ],
      "metadata": {
        "id": "60yjBU4LK_UN"
      }
    },
    {
      "cell_type": "code",
      "source": [
        "import numpy as np\n",
        "import pandas as pd\n",
        "import scipy.stats as stats\n",
        "import math\n",
        "np.random.seed(6)\n",
        "school_ages=stats.poisson.rvs(loc=18,mu=35,size=1500)\n",
        "classA_ages=stats.poisson.rvs(loc=18,mu=30,size=60)"
      ],
      "metadata": {
        "id": "4H6qKVQvJXuo"
      },
      "execution_count": 10,
      "outputs": []
    },
    {
      "cell_type": "markdown",
      "source": [
        "loc---> age starts from 18\n",
        "\n",
        "\n",
        "mu----> age mean is 35"
      ],
      "metadata": {
        "id": "LSpyM70pLEwb"
      }
    },
    {
      "cell_type": "code",
      "source": [
        "classA_ages.mean()"
      ],
      "metadata": {
        "colab": {
          "base_uri": "https://localhost:8080/"
        },
        "id": "JNofNXhwJXoW",
        "outputId": "649e4077-fd99-422b-ea66-b16872bcf79b"
      },
      "execution_count": 11,
      "outputs": [
        {
          "output_type": "execute_result",
          "data": {
            "text/plain": [
              "46.9"
            ]
          },
          "metadata": {},
          "execution_count": 11
        }
      ]
    },
    {
      "cell_type": "code",
      "source": [
        "_,p_value=stats.ttest_1samp(a=classA_ages,popmean=school_ages.mean())"
      ],
      "metadata": {
        "id": "B8u60oWVJXkm"
      },
      "execution_count": 12,
      "outputs": []
    },
    {
      "cell_type": "code",
      "source": [
        "p_value"
      ],
      "metadata": {
        "colab": {
          "base_uri": "https://localhost:8080/"
        },
        "id": "sMZMmvziJXh_",
        "outputId": "60e4ddc5-5532-48b7-bfdc-8a3790892018"
      },
      "execution_count": 13,
      "outputs": [
        {
          "output_type": "execute_result",
          "data": {
            "text/plain": [
              "1.139027071016194e-13"
            ]
          },
          "metadata": {},
          "execution_count": 13
        }
      ]
    },
    {
      "cell_type": "code",
      "source": [
        "school_ages.mean()"
      ],
      "metadata": {
        "colab": {
          "base_uri": "https://localhost:8080/"
        },
        "id": "ABvnA5i0JXfL",
        "outputId": "4ea16450-f000-4b87-e0e7-af888cf65e63"
      },
      "execution_count": 14,
      "outputs": [
        {
          "output_type": "execute_result",
          "data": {
            "text/plain": [
              "53.303333333333335"
            ]
          },
          "metadata": {},
          "execution_count": 14
        }
      ]
    },
    {
      "cell_type": "code",
      "source": [
        "if p_value < 0.05:    # alpha value is 0.05 or 5%\n",
        "    print(\" we are rejecting null hypothesis\")\n",
        "else:\n",
        "    print(\"we are accepting null hypothesis\")"
      ],
      "metadata": {
        "colab": {
          "base_uri": "https://localhost:8080/"
        },
        "id": "DgojHAlLLjJJ",
        "outputId": "4b3eb6df-41bc-4ee8-ea6e-12b91e645672"
      },
      "execution_count": 15,
      "outputs": [
        {
          "output_type": "stream",
          "name": "stdout",
          "text": [
            " we are rejecting null hypothesis\n"
          ]
        }
      ]
    },
    {
      "cell_type": "markdown",
      "source": [
        "# Two-sample T-test With Python\n",
        "The Independent Samples t Test or 2-sample t-test compares the means of two independent groups in order to determine whether there is statistical evidence that the associated population means are significantly different. The Independent Samples t Test is a parametric test. This test is also known as: Independent t Test"
      ],
      "metadata": {
        "id": "wutI8zmsNBOq"
      }
    },
    {
      "cell_type": "code",
      "source": [
        "np.random.seed(12)\n",
        "ClassB_ages=stats.poisson.rvs(loc=18,mu=33,size=60)\n",
        "ClassB_ages.mean()"
      ],
      "metadata": {
        "colab": {
          "base_uri": "https://localhost:8080/"
        },
        "id": "-UyRVTAeLjGG",
        "outputId": "d5bcce28-5854-4f18-87ca-9292b6897a0f"
      },
      "execution_count": 16,
      "outputs": [
        {
          "output_type": "execute_result",
          "data": {
            "text/plain": [
              "50.63333333333333"
            ]
          },
          "metadata": {},
          "execution_count": 16
        }
      ]
    },
    {
      "cell_type": "code",
      "source": [
        "_,p_value=stats.ttest_ind(a=classA_ages,b=ClassB_ages,equal_var=False)"
      ],
      "metadata": {
        "id": "RNuaX72BLjDH"
      },
      "execution_count": 18,
      "outputs": []
    },
    {
      "cell_type": "code",
      "source": [
        "p_value"
      ],
      "metadata": {
        "colab": {
          "base_uri": "https://localhost:8080/"
        },
        "id": "ob7dPdB3NwAU",
        "outputId": "51b537cb-fbc4-45cf-da67-7e3be46e4349"
      },
      "execution_count": 24,
      "outputs": [
        {
          "output_type": "execute_result",
          "data": {
            "text/plain": [
              "0.00039942095100859375"
            ]
          },
          "metadata": {},
          "execution_count": 24
        }
      ]
    },
    {
      "cell_type": "code",
      "source": [
        "if p_value < 0.05:    # alpha value is 0.05 or 5%\n",
        "    print(\" we are rejecting null hypothesis\")\n",
        "else:\n",
        "    print(\"we are accepting null hypothesis\")"
      ],
      "metadata": {
        "colab": {
          "base_uri": "https://localhost:8080/"
        },
        "id": "yyKLrEFSLjAw",
        "outputId": "ddaab8c0-f65e-4ed9-9c50-2df16ae774c2"
      },
      "execution_count": 23,
      "outputs": [
        {
          "output_type": "stream",
          "name": "stdout",
          "text": [
            " we are rejecting null hypothesis\n"
          ]
        }
      ]
    },
    {
      "cell_type": "markdown",
      "source": [
        "# Paired T-test With Python\n",
        "When you want to check how different samples from the same group are, you can go for a paired T-test"
      ],
      "metadata": {
        "id": "m3XcBiavSF_2"
      }
    },
    {
      "cell_type": "code",
      "source": [
        "weight1=[25,30,28,35,28,34,26,29,30,26,28,32,31,30,45]\n",
        "weight2=weight1+stats.norm.rvs(scale=5,loc=-1.25,size=15)"
      ],
      "metadata": {
        "id": "rTaiVAiaLi-S"
      },
      "execution_count": 25,
      "outputs": []
    },
    {
      "cell_type": "code",
      "source": [
        "print(weight1)\n",
        "print(weight2)"
      ],
      "metadata": {
        "colab": {
          "base_uri": "https://localhost:8080/"
        },
        "id": "_OQ3HpGLLi7p",
        "outputId": "b9fedd85-7d3a-4e1e-ea5b-c2a5c3d2bfb0"
      },
      "execution_count": 26,
      "outputs": [
        {
          "output_type": "stream",
          "name": "stdout",
          "text": [
            "[25, 30, 28, 35, 28, 34, 26, 29, 30, 26, 28, 32, 31, 30, 45]\n",
            "[30.57926457 34.91022437 29.00444617 30.54295091 19.86201983 37.57873174\n",
            " 18.3299827  21.3771395  36.36420881 32.05941216 26.93827982 29.519014\n",
            " 26.42851213 30.50667769 41.32984284]\n"
          ]
        }
      ]
    },
    {
      "cell_type": "code",
      "source": [
        "weight_df=pd.DataFrame({\"weight_10\":np.array(weight1),\n",
        "                         \"weight_20\":np.array(weight2),\n",
        "                       \"weight_change\":np.array(weight2)-np.array(weight1)})"
      ],
      "metadata": {
        "id": "uRSVmQ7GLi42"
      },
      "execution_count": 27,
      "outputs": []
    },
    {
      "cell_type": "code",
      "source": [
        "weight_df"
      ],
      "metadata": {
        "colab": {
          "base_uri": "https://localhost:8080/",
          "height": 520
        },
        "id": "j45q_p81SND6",
        "outputId": "ded9d279-b16e-4cd4-9484-4384755db150"
      },
      "execution_count": 28,
      "outputs": [
        {
          "output_type": "execute_result",
          "data": {
            "text/plain": [
              "    weight_10  weight_20  weight_change\n",
              "0          25  30.579265       5.579265\n",
              "1          30  34.910224       4.910224\n",
              "2          28  29.004446       1.004446\n",
              "3          35  30.542951      -4.457049\n",
              "4          28  19.862020      -8.137980\n",
              "5          34  37.578732       3.578732\n",
              "6          26  18.329983      -7.670017\n",
              "7          29  21.377139      -7.622861\n",
              "8          30  36.364209       6.364209\n",
              "9          26  32.059412       6.059412\n",
              "10         28  26.938280      -1.061720\n",
              "11         32  29.519014      -2.480986\n",
              "12         31  26.428512      -4.571488\n",
              "13         30  30.506678       0.506678\n",
              "14         45  41.329843      -3.670157"
            ],
            "text/html": [
              "\n",
              "  <div id=\"df-b4eb2bc7-0baf-4a40-8c93-bc6ac20b3e66\">\n",
              "    <div class=\"colab-df-container\">\n",
              "      <div>\n",
              "<style scoped>\n",
              "    .dataframe tbody tr th:only-of-type {\n",
              "        vertical-align: middle;\n",
              "    }\n",
              "\n",
              "    .dataframe tbody tr th {\n",
              "        vertical-align: top;\n",
              "    }\n",
              "\n",
              "    .dataframe thead th {\n",
              "        text-align: right;\n",
              "    }\n",
              "</style>\n",
              "<table border=\"1\" class=\"dataframe\">\n",
              "  <thead>\n",
              "    <tr style=\"text-align: right;\">\n",
              "      <th></th>\n",
              "      <th>weight_10</th>\n",
              "      <th>weight_20</th>\n",
              "      <th>weight_change</th>\n",
              "    </tr>\n",
              "  </thead>\n",
              "  <tbody>\n",
              "    <tr>\n",
              "      <th>0</th>\n",
              "      <td>25</td>\n",
              "      <td>30.579265</td>\n",
              "      <td>5.579265</td>\n",
              "    </tr>\n",
              "    <tr>\n",
              "      <th>1</th>\n",
              "      <td>30</td>\n",
              "      <td>34.910224</td>\n",
              "      <td>4.910224</td>\n",
              "    </tr>\n",
              "    <tr>\n",
              "      <th>2</th>\n",
              "      <td>28</td>\n",
              "      <td>29.004446</td>\n",
              "      <td>1.004446</td>\n",
              "    </tr>\n",
              "    <tr>\n",
              "      <th>3</th>\n",
              "      <td>35</td>\n",
              "      <td>30.542951</td>\n",
              "      <td>-4.457049</td>\n",
              "    </tr>\n",
              "    <tr>\n",
              "      <th>4</th>\n",
              "      <td>28</td>\n",
              "      <td>19.862020</td>\n",
              "      <td>-8.137980</td>\n",
              "    </tr>\n",
              "    <tr>\n",
              "      <th>5</th>\n",
              "      <td>34</td>\n",
              "      <td>37.578732</td>\n",
              "      <td>3.578732</td>\n",
              "    </tr>\n",
              "    <tr>\n",
              "      <th>6</th>\n",
              "      <td>26</td>\n",
              "      <td>18.329983</td>\n",
              "      <td>-7.670017</td>\n",
              "    </tr>\n",
              "    <tr>\n",
              "      <th>7</th>\n",
              "      <td>29</td>\n",
              "      <td>21.377139</td>\n",
              "      <td>-7.622861</td>\n",
              "    </tr>\n",
              "    <tr>\n",
              "      <th>8</th>\n",
              "      <td>30</td>\n",
              "      <td>36.364209</td>\n",
              "      <td>6.364209</td>\n",
              "    </tr>\n",
              "    <tr>\n",
              "      <th>9</th>\n",
              "      <td>26</td>\n",
              "      <td>32.059412</td>\n",
              "      <td>6.059412</td>\n",
              "    </tr>\n",
              "    <tr>\n",
              "      <th>10</th>\n",
              "      <td>28</td>\n",
              "      <td>26.938280</td>\n",
              "      <td>-1.061720</td>\n",
              "    </tr>\n",
              "    <tr>\n",
              "      <th>11</th>\n",
              "      <td>32</td>\n",
              "      <td>29.519014</td>\n",
              "      <td>-2.480986</td>\n",
              "    </tr>\n",
              "    <tr>\n",
              "      <th>12</th>\n",
              "      <td>31</td>\n",
              "      <td>26.428512</td>\n",
              "      <td>-4.571488</td>\n",
              "    </tr>\n",
              "    <tr>\n",
              "      <th>13</th>\n",
              "      <td>30</td>\n",
              "      <td>30.506678</td>\n",
              "      <td>0.506678</td>\n",
              "    </tr>\n",
              "    <tr>\n",
              "      <th>14</th>\n",
              "      <td>45</td>\n",
              "      <td>41.329843</td>\n",
              "      <td>-3.670157</td>\n",
              "    </tr>\n",
              "  </tbody>\n",
              "</table>\n",
              "</div>\n",
              "      <button class=\"colab-df-convert\" onclick=\"convertToInteractive('df-b4eb2bc7-0baf-4a40-8c93-bc6ac20b3e66')\"\n",
              "              title=\"Convert this dataframe to an interactive table.\"\n",
              "              style=\"display:none;\">\n",
              "        \n",
              "  <svg xmlns=\"http://www.w3.org/2000/svg\" height=\"24px\"viewBox=\"0 0 24 24\"\n",
              "       width=\"24px\">\n",
              "    <path d=\"M0 0h24v24H0V0z\" fill=\"none\"/>\n",
              "    <path d=\"M18.56 5.44l.94 2.06.94-2.06 2.06-.94-2.06-.94-.94-2.06-.94 2.06-2.06.94zm-11 1L8.5 8.5l.94-2.06 2.06-.94-2.06-.94L8.5 2.5l-.94 2.06-2.06.94zm10 10l.94 2.06.94-2.06 2.06-.94-2.06-.94-.94-2.06-.94 2.06-2.06.94z\"/><path d=\"M17.41 7.96l-1.37-1.37c-.4-.4-.92-.59-1.43-.59-.52 0-1.04.2-1.43.59L10.3 9.45l-7.72 7.72c-.78.78-.78 2.05 0 2.83L4 21.41c.39.39.9.59 1.41.59.51 0 1.02-.2 1.41-.59l7.78-7.78 2.81-2.81c.8-.78.8-2.07 0-2.86zM5.41 20L4 18.59l7.72-7.72 1.47 1.35L5.41 20z\"/>\n",
              "  </svg>\n",
              "      </button>\n",
              "      \n",
              "  <style>\n",
              "    .colab-df-container {\n",
              "      display:flex;\n",
              "      flex-wrap:wrap;\n",
              "      gap: 12px;\n",
              "    }\n",
              "\n",
              "    .colab-df-convert {\n",
              "      background-color: #E8F0FE;\n",
              "      border: none;\n",
              "      border-radius: 50%;\n",
              "      cursor: pointer;\n",
              "      display: none;\n",
              "      fill: #1967D2;\n",
              "      height: 32px;\n",
              "      padding: 0 0 0 0;\n",
              "      width: 32px;\n",
              "    }\n",
              "\n",
              "    .colab-df-convert:hover {\n",
              "      background-color: #E2EBFA;\n",
              "      box-shadow: 0px 1px 2px rgba(60, 64, 67, 0.3), 0px 1px 3px 1px rgba(60, 64, 67, 0.15);\n",
              "      fill: #174EA6;\n",
              "    }\n",
              "\n",
              "    [theme=dark] .colab-df-convert {\n",
              "      background-color: #3B4455;\n",
              "      fill: #D2E3FC;\n",
              "    }\n",
              "\n",
              "    [theme=dark] .colab-df-convert:hover {\n",
              "      background-color: #434B5C;\n",
              "      box-shadow: 0px 1px 3px 1px rgba(0, 0, 0, 0.15);\n",
              "      filter: drop-shadow(0px 1px 2px rgba(0, 0, 0, 0.3));\n",
              "      fill: #FFFFFF;\n",
              "    }\n",
              "  </style>\n",
              "\n",
              "      <script>\n",
              "        const buttonEl =\n",
              "          document.querySelector('#df-b4eb2bc7-0baf-4a40-8c93-bc6ac20b3e66 button.colab-df-convert');\n",
              "        buttonEl.style.display =\n",
              "          google.colab.kernel.accessAllowed ? 'block' : 'none';\n",
              "\n",
              "        async function convertToInteractive(key) {\n",
              "          const element = document.querySelector('#df-b4eb2bc7-0baf-4a40-8c93-bc6ac20b3e66');\n",
              "          const dataTable =\n",
              "            await google.colab.kernel.invokeFunction('convertToInteractive',\n",
              "                                                     [key], {});\n",
              "          if (!dataTable) return;\n",
              "\n",
              "          const docLinkHtml = 'Like what you see? Visit the ' +\n",
              "            '<a target=\"_blank\" href=https://colab.research.google.com/notebooks/data_table.ipynb>data table notebook</a>'\n",
              "            + ' to learn more about interactive tables.';\n",
              "          element.innerHTML = '';\n",
              "          dataTable['output_type'] = 'display_data';\n",
              "          await google.colab.output.renderOutput(dataTable, element);\n",
              "          const docLink = document.createElement('div');\n",
              "          docLink.innerHTML = docLinkHtml;\n",
              "          element.appendChild(docLink);\n",
              "        }\n",
              "      </script>\n",
              "    </div>\n",
              "  </div>\n",
              "  "
            ]
          },
          "metadata": {},
          "execution_count": 28
        }
      ]
    },
    {
      "cell_type": "code",
      "source": [
        "_,p_value=stats.ttest_rel(a=weight1,b=weight2)"
      ],
      "metadata": {
        "id": "5b-IaPuXSM_y"
      },
      "execution_count": 29,
      "outputs": []
    },
    {
      "cell_type": "code",
      "source": [
        "print(p_value)"
      ],
      "metadata": {
        "colab": {
          "base_uri": "https://localhost:8080/"
        },
        "id": "ykJNuiKaSM7H",
        "outputId": "6b5ba989-de8d-42bb-ab05-65fb68905506"
      },
      "execution_count": 30,
      "outputs": [
        {
          "output_type": "stream",
          "name": "stdout",
          "text": [
            "0.5732936534411279\n"
          ]
        }
      ]
    },
    {
      "cell_type": "code",
      "source": [
        "if p_value < 0.05:    # alpha value is 0.05 or 5%\n",
        "    print(\" we are rejecting null hypothesis\")\n",
        "else:\n",
        "    print(\"we are accepting null hypothesis\")"
      ],
      "metadata": {
        "colab": {
          "base_uri": "https://localhost:8080/"
        },
        "id": "oUuIrjxtSM0t",
        "outputId": "e49ce2f3-ec54-448d-cbc6-4731404d4c9a"
      },
      "execution_count": 31,
      "outputs": [
        {
          "output_type": "stream",
          "name": "stdout",
          "text": [
            "we are accepting null hypothesis\n"
          ]
        }
      ]
    }
  ]
}